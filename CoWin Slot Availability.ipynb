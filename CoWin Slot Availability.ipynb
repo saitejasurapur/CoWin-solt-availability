{
 "cells": [
  {
   "cell_type": "code",
   "execution_count": 1,
   "metadata": {},
   "outputs": [],
   "source": [
    "import requests\n",
    "import datetime\n",
    "import json\n",
    "from playsound import playsound\n",
    "import time"
   ]
  },
  {
   "cell_type": "code",
   "execution_count": 2,
   "metadata": {},
   "outputs": [],
   "source": [
    "browser_header = {'User-Agent': 'Mozilla/5.0 (Windows NT 6.1; WOW64) AppleWebKit/537.36 (KHTML, like Gecko) Chrome/56.0.2924.76 Safari/537.36'}\n",
    "\n",
    "# response = requests.get(\"https://cdn-api.co-vin.in/api/v2/appointment/sessions/public/calendarByDistrict?district_id=581&date=09-05-2021\", headers=browser_header)\n",
    "# response"
   ]
  },
  {
   "cell_type": "markdown",
   "metadata": {
    "scrolled": true
   },
   "source": [
    "https://cdn-api.co-vin.in/api/v2/admin/location/states\n",
    "\n",
    "Use above link to get state_id.\n",
    "After getting state_id replace in below link ending.\n",
    "\n",
    "https://cdn-api.co-vin.in/api/v2/admin/location/districts/state_id\n",
    "\n",
    "example, for telangana https://cdn-api.co-vin.in/api/v2/admin/location/districts/32\n",
    "\n",
    "From this link get required district ids and substitute in dids array and execute below cells"
   ]
  },
  {
   "cell_type": "code",
   "execution_count": null,
   "metadata": {},
   "outputs": [],
   "source": []
  },
  {
   "cell_type": "code",
   "execution_count": 3,
   "metadata": {},
   "outputs": [],
   "source": [
    "def func():\n",
    "    dids = [\"581\",\"596\",\"603\"]\n",
    "\n",
    "    print_flag = 'Y'\n",
    "\n",
    "    numdays = 15\n",
    "\n",
    "    base = datetime.datetime.today()\n",
    "    date_list = [base + datetime.timedelta(days=x) for x in range(numdays)]\n",
    "    date_str = [x.strftime(\"%d-%m-%Y\") for x in date_list]\n",
    "\n",
    "    count = 0\n",
    "\n",
    "    for did in dids:    \n",
    "        for INP_DATE in date_str:\n",
    "            URL = \"https://cdn-api.co-vin.in/api/v2/appointment/sessions/public/calendarByDistrict?district_id={}&date={}\".format(did, INP_DATE)\n",
    "            response = requests.get(URL, headers=browser_header)\n",
    "            if response.ok:\n",
    "                resp_json = response.json()\n",
    "                flag = False\n",
    "                if resp_json[\"centers\"]:            \n",
    "                    if(print_flag=='y' or print_flag=='Y'):\n",
    "                        for center in resp_json[\"centers\"]:\n",
    "                            for session in center[\"sessions\"]:\n",
    "                                if (session[\"available_capacity\"] > 0 ) :\n",
    "                                    print(\"Available on: {}\".format(INP_DATE))\n",
    "                                    print(\"\\t\", center[\"name\"])\n",
    "                                    print(\"\\t\", center[\"block_name\"])\n",
    "                                    print(\"\\t\",center[\"district_name\"])\n",
    "                                    print(\"\\t\",center[\"pincode\"])\n",
    "                                    print(\"\\t Price: \", center[\"fee_type\"])\n",
    "                                    print(\"\\t Available Capacity: \", session[\"available_capacity\"])\n",
    "                                    if(session[\"vaccine\"] != ''):\n",
    "                                        print(\"\\t Vaccine: \", session[\"vaccine\"])\n",
    "                                    print(\"\\n\")\n",
    "                                    count = count + 1\n",
    "\n",
    "\n",
    "    if(count > 0):\n",
    "        playsound('ring.mp3')\n",
    "#     else : print(\"no\")\n",
    "    print(\"Completed...\",datetime.datetime.now().strftime(\"%H:%M:%S\"))"
   ]
  },
  {
   "cell_type": "code",
   "execution_count": null,
   "metadata": {
    "scrolled": true
   },
   "outputs": [
    {
     "name": "stdout",
     "output_type": "stream",
     "text": [
      "Completed... 11:48:13\n",
      "Completed... 11:49:16\n",
      "Completed... 11:50:19\n",
      "Completed... 11:51:24\n",
      "Completed... 11:52:26\n",
      "Completed... 11:53:28\n",
      "Completed... 11:54:31\n",
      "Completed... 11:55:34\n",
      "Completed... 11:56:36\n",
      "Completed... 11:57:38\n",
      "Completed... 11:58:41\n",
      "Completed... 11:59:43\n",
      "Completed... 12:00:46\n",
      "Completed... 12:01:48\n",
      "Completed... 12:02:51\n",
      "Completed... 12:03:55\n",
      "Completed... 12:04:59\n",
      "Completed... 12:06:04\n",
      "Completed... 12:07:07\n",
      "Completed... 12:08:09\n",
      "Completed... 12:09:11\n",
      "Completed... 12:10:14\n",
      "Completed... 12:11:17\n",
      "Completed... 12:12:20\n",
      "Completed... 12:13:23\n",
      "Completed... 12:14:26\n",
      "Completed... 12:15:29\n",
      "Completed... 12:16:32\n",
      "Completed... 12:17:36\n",
      "Completed... 12:18:39\n",
      "Completed... 12:19:42\n",
      "Completed... 12:20:45\n",
      "Completed... 12:21:53\n",
      "Completed... 12:22:56\n",
      "Completed... 12:23:58\n",
      "Completed... 12:25:01\n",
      "Completed... 12:26:03\n",
      "Completed... 12:27:05\n",
      "Completed... 12:28:09\n",
      "Completed... 12:29:12\n",
      "Completed... 12:30:14\n",
      "Completed... 12:31:16\n",
      "Available on: 10-05-2021\n",
      "\t Shamshabad CHC CVC One\n",
      "\t Shamshabad\n",
      "\t Rangareddy\n",
      "\t 501218\n",
      "\t Price:  Free\n",
      "\t Available Capacity:  100\n",
      "\t Vaccine:  COVISHIELD\n",
      "\n",
      "\n",
      "Completed... 12:32:27\n"
     ]
    }
   ],
   "source": [
    "#By executing this cell above function gets executed every minute \n",
    "#     and displays any availability of vaccines in selected districts\n",
    "# If vaccine is availabe then code prints the hospital details and plays ringtone for notifying user\n",
    "\n",
    "while True:\n",
    "    func()\n",
    "    time.sleep(60)\n",
    "    \n",
    "# use Stop button (beside run) to stop execution\n",
    "\n"
   ]
  },
  {
   "cell_type": "code",
   "execution_count": 4,
   "metadata": {
    "scrolled": true
   },
   "outputs": [
    {
     "name": "stdout",
     "output_type": "stream",
     "text": [
      "Available on: 13-05-2021\n",
      "\t Fever Hospital\n",
      "\t Amberpet\n",
      "\t Hyderabad\n",
      "\t 500044\n",
      "\t Price:  Free\n",
      "\t Available Capacity:  27\n",
      "\t Vaccine:  COVISHIELD\n",
      "\n",
      "\n",
      "Available on: 14-05-2021\n",
      "\t Fever Hospital\n",
      "\t Amberpet\n",
      "\t Hyderabad\n",
      "\t 500044\n",
      "\t Price:  Free\n",
      "\t Available Capacity:  27\n",
      "\t Vaccine:  COVISHIELD\n",
      "\n",
      "\n",
      "Available on: 15-05-2021\n",
      "\t Fever Hospital\n",
      "\t Amberpet\n",
      "\t Hyderabad\n",
      "\t 500044\n",
      "\t Price:  Free\n",
      "\t Available Capacity:  27\n",
      "\t Vaccine:  COVISHIELD\n",
      "\n",
      "\n",
      "Completed... 22:47:27\n"
     ]
    }
   ],
   "source": [
    "func()"
   ]
  },
  {
   "cell_type": "code",
   "execution_count": null,
   "metadata": {},
   "outputs": [],
   "source": [
    "{\n",
    "\"district_id\": 581,\n",
    "\"district_name\": \"Hyderabad\"\n",
    "},\n",
    "{\n",
    "\"district_id\": 596,\n",
    "\"district_name\": \"Medchal\"\n",
    "}\n",
    "{\n",
    "\"district_id\": 603,\n",
    "\"district_name\": \"Rangareddy\"\n",
    "}"
   ]
  }
 ],
 "metadata": {
  "kernelspec": {
   "display_name": "Python 3",
   "language": "python",
   "name": "python3"
  },
  "language_info": {
   "codemirror_mode": {
    "name": "ipython",
    "version": 3
   },
   "file_extension": ".py",
   "mimetype": "text/x-python",
   "name": "python",
   "nbconvert_exporter": "python",
   "pygments_lexer": "ipython3",
   "version": "3.7.6"
  }
 },
 "nbformat": 4,
 "nbformat_minor": 4
}
